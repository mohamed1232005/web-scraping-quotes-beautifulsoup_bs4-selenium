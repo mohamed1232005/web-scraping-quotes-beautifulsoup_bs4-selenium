{
  "nbformat": 4,
  "nbformat_minor": 0,
  "metadata": {
    "colab": {
      "provenance": []
    },
    "kernelspec": {
      "name": "python3",
      "display_name": "Python 3"
    },
    "language_info": {
      "name": "python"
    }
  },
  "cells": [
    {
      "cell_type": "markdown",
      "source": [
        "# web scrapping"
      ],
      "metadata": {
        "id": "lQP8rRGiweov"
      }
    },
    {
      "cell_type": "markdown",
      "source": [
        "###Project Description\n",
        "\n",
        "The goal of this task is to practice web scraping by extracting structured information from the site Quotes to Scrape:\n",
        "https://quotes.toscrape.com/\n"
      ],
      "metadata": {
        "id": "b8BiSYqpxEX3"
      }
    },
    {
      "cell_type": "markdown",
      "source": [
        "### implementing two separate solutions:\n",
        "\n",
        "1.Using Beautiful Soup (requests + bs4)\n",
        "\n",
        "\n",
        "*  Collecting the first 10 quotes with their authors and tags.\n",
        "*  Collecting the first 100 quotes with their authors and tags.\n",
        "\n",
        "\n",
        "2.Using Selenium (browser automation)\n",
        "\n",
        "* Performing the same extraction (quotes, authors, tags) by automating a web browser to navigate through the site’s pages until the required number of results is collected."
      ],
      "metadata": {
        "id": "xkpFOaxuxQky"
      }
    },
    {
      "cell_type": "markdown",
      "source": [
        "\n",
        "The final output stored in a structured format (e.g., CSV or JSON), containing:\n",
        "\n",
        "Quote text\n",
        "\n",
        "Author name\n",
        "\n",
        "Associated tags"
      ],
      "metadata": {
        "id": "Mq_Q5XGPw1jW"
      }
    },
    {
      "cell_type": "markdown",
      "source": [
        "## Beautiful Soup (requests + bs4)"
      ],
      "metadata": {
        "id": "7rqCREEcxyN8"
      }
    },
    {
      "cell_type": "markdown",
      "source": [
        "###Importing libraries"
      ],
      "metadata": {
        "id": "qP4AMWYByS_3"
      }
    },
    {
      "cell_type": "code",
      "source": [
        "# bs4_quotes.py\n",
        "!pip install requests beautifulsoup4\n",
        "import requests\n",
        "from bs4 import BeautifulSoup\n",
        "from dataclasses import dataclass\n",
        "from typing import List\n",
        "import csv, json\n",
        "\n"
      ],
      "metadata": {
        "colab": {
          "base_uri": "https://localhost:8080/"
        },
        "id": "kz_U8v18x7yf",
        "outputId": "436bd231-f624-42be-84d5-09290cef5a34"
      },
      "execution_count": 3,
      "outputs": [
        {
          "output_type": "stream",
          "name": "stdout",
          "text": [
            "Requirement already satisfied: requests in /usr/local/lib/python3.12/dist-packages (2.32.4)\n",
            "Requirement already satisfied: beautifulsoup4 in /usr/local/lib/python3.12/dist-packages (4.13.5)\n",
            "Requirement already satisfied: charset_normalizer<4,>=2 in /usr/local/lib/python3.12/dist-packages (from requests) (3.4.3)\n",
            "Requirement already satisfied: idna<4,>=2.5 in /usr/local/lib/python3.12/dist-packages (from requests) (3.10)\n",
            "Requirement already satisfied: urllib3<3,>=1.21.1 in /usr/local/lib/python3.12/dist-packages (from requests) (2.5.0)\n",
            "Requirement already satisfied: certifi>=2017.4.17 in /usr/local/lib/python3.12/dist-packages (from requests) (2025.8.3)\n",
            "Requirement already satisfied: soupsieve>1.2 in /usr/local/lib/python3.12/dist-packages (from beautifulsoup4) (2.8)\n",
            "Requirement already satisfied: typing-extensions>=4.0.0 in /usr/local/lib/python3.12/dist-packages (from beautifulsoup4) (4.15.0)\n"
          ]
        }
      ]
    },
    {
      "cell_type": "markdown",
      "source": [
        "### Data model"
      ],
      "metadata": {
        "id": "BvupuMrBz1l9"
      }
    },
    {
      "cell_type": "code",
      "source": [
        "@dataclass\n",
        "class Quote:\n",
        "    text: str\n",
        "    author: str\n",
        "    tags: List[str]\n"
      ],
      "metadata": {
        "id": "VTpQJHLqyY03"
      },
      "execution_count": 4,
      "outputs": []
    },
    {
      "cell_type": "markdown",
      "source": [
        "###Scraping function with BeautifulSoup"
      ],
      "metadata": {
        "id": "105_Q6Bwya8F"
      }
    },
    {
      "cell_type": "code",
      "source": [
        "BASE = \"https://quotes.toscrape.com\"\n",
        "\n",
        "def scrape_bs4(limit: int) -> List[Quote]:\n",
        "    url = f\"{BASE}/page/1/\"\n",
        "    out: List[Quote] = []\n",
        "\n",
        "    while url and len(out) < limit:\n",
        "        r = requests.get(url, timeout=30)\n",
        "        r.raise_for_status()\n",
        "        soup = BeautifulSoup(r.text, \"html.parser\")\n",
        "\n",
        "        for box in soup.select(\".quote\"):\n",
        "            text = box.select_one(\"span.text\").get_text(strip=True).strip(\"“”\\\"\")\n",
        "            author = box.select_one(\"small.author\").get_text(strip=True)\n",
        "            tags = [t.get_text(strip=True) for t in box.select(\".tags a.tag\")]\n",
        "            out.append(Quote(text, author, tags))\n",
        "            if len(out) >= limit:\n",
        "                break\n",
        "\n",
        "        nxt = soup.select_one(\"li.next > a\")\n",
        "        url = (BASE + nxt[\"href\"]) if nxt else None\n",
        "\n",
        "    return out"
      ],
      "metadata": {
        "id": "9_r-1XNZybUP"
      },
      "execution_count": 5,
      "outputs": []
    },
    {
      "cell_type": "markdown",
      "source": [
        "###Save helpers (CSV / JSONL)"
      ],
      "metadata": {
        "id": "RvRrt6Ccyfle"
      }
    },
    {
      "cell_type": "markdown",
      "source": [
        "CSV"
      ],
      "metadata": {
        "id": "RMHRjew3ynwh"
      }
    },
    {
      "cell_type": "code",
      "source": [
        "def save_csv(quotes: List[Quote], path: str):\n",
        "    with open(path, \"w\", newline=\"\", encoding=\"utf-8\") as f:\n",
        "        w = csv.writer(f)\n",
        "        w.writerow([\"text\", \"author\", \"tags\"])\n",
        "        for q in quotes:\n",
        "            w.writerow([q.text, q.author, \", \".join(q.tags)])"
      ],
      "metadata": {
        "id": "ynWnuNXpyncA"
      },
      "execution_count": 6,
      "outputs": []
    },
    {
      "cell_type": "markdown",
      "source": [
        "JSON"
      ],
      "metadata": {
        "id": "Vvd3gDBhyoyq"
      }
    },
    {
      "cell_type": "code",
      "source": [
        "def save_jsonl(quotes: List[Quote], path: str):\n",
        "    with open(path, \"w\", encoding=\"utf-8\") as f:\n",
        "        for q in quotes:\n",
        "            f.write(json.dumps(q.__dict__, ensure_ascii=False) + \"\\n\")\n"
      ],
      "metadata": {
        "id": "Ruz6hkQuylrd"
      },
      "execution_count": 7,
      "outputs": []
    },
    {
      "cell_type": "markdown",
      "source": [
        "### Run for first 10"
      ],
      "metadata": {
        "id": "v4E6joDcyt2q"
      }
    },
    {
      "cell_type": "code",
      "source": [
        "quotes10 = scrape_bs4(limit=10)\n",
        "save_csv(quotes10, \"quotes_10_bs4.csv\")\n",
        "print(\"First 10 quotes saved!\")\n",
        "quotes10[:3]  # preview first 3\n"
      ],
      "metadata": {
        "colab": {
          "base_uri": "https://localhost:8080/"
        },
        "id": "p0eKtnkayvLi",
        "outputId": "78576cc3-15a6-4e0f-c1c7-8d4207412a07"
      },
      "execution_count": 8,
      "outputs": [
        {
          "output_type": "stream",
          "name": "stdout",
          "text": [
            "First 10 quotes saved!\n"
          ]
        },
        {
          "output_type": "execute_result",
          "data": {
            "text/plain": [
              "[Quote(text='The world as we have created it is a process of our thinking. It cannot be changed without changing our thinking.', author='Albert Einstein', tags=['change', 'deep-thoughts', 'thinking', 'world']),\n",
              " Quote(text='It is our choices, Harry, that show what we truly are, far more than our abilities.', author='J.K. Rowling', tags=['abilities', 'choices']),\n",
              " Quote(text='There are only two ways to live your life. One is as though nothing is a miracle. The other is as though everything is a miracle.', author='Albert Einstein', tags=['inspirational', 'life', 'live', 'miracle', 'miracles'])]"
            ]
          },
          "metadata": {},
          "execution_count": 8
        }
      ]
    },
    {
      "cell_type": "code",
      "source": [
        "quotes10"
      ],
      "metadata": {
        "colab": {
          "base_uri": "https://localhost:8080/"
        },
        "id": "8b744J6qy9pE",
        "outputId": "e1dce5f4-e224-42a9-aecb-a7c5d8d22abf"
      },
      "execution_count": 10,
      "outputs": [
        {
          "output_type": "execute_result",
          "data": {
            "text/plain": [
              "[Quote(text='The world as we have created it is a process of our thinking. It cannot be changed without changing our thinking.', author='Albert Einstein', tags=['change', 'deep-thoughts', 'thinking', 'world']),\n",
              " Quote(text='It is our choices, Harry, that show what we truly are, far more than our abilities.', author='J.K. Rowling', tags=['abilities', 'choices']),\n",
              " Quote(text='There are only two ways to live your life. One is as though nothing is a miracle. The other is as though everything is a miracle.', author='Albert Einstein', tags=['inspirational', 'life', 'live', 'miracle', 'miracles']),\n",
              " Quote(text='The person, be it gentleman or lady, who has not pleasure in a good novel, must be intolerably stupid.', author='Jane Austen', tags=['aliteracy', 'books', 'classic', 'humor']),\n",
              " Quote(text=\"Imperfection is beauty, madness is genius and it's better to be absolutely ridiculous than absolutely boring.\", author='Marilyn Monroe', tags=['be-yourself', 'inspirational']),\n",
              " Quote(text='Try not to become a man of success. Rather become a man of value.', author='Albert Einstein', tags=['adulthood', 'success', 'value']),\n",
              " Quote(text='It is better to be hated for what you are than to be loved for what you are not.', author='André Gide', tags=['life', 'love']),\n",
              " Quote(text=\"I have not failed. I've just found 10,000 ways that won't work.\", author='Thomas A. Edison', tags=['edison', 'failure', 'inspirational', 'paraphrased']),\n",
              " Quote(text=\"A woman is like a tea bag; you never know how strong it is until it's in hot water.\", author='Eleanor Roosevelt', tags=['misattributed-eleanor-roosevelt']),\n",
              " Quote(text='A day without sunshine is like, you know, night.', author='Steve Martin', tags=['humor', 'obvious', 'simile'])]"
            ]
          },
          "metadata": {},
          "execution_count": 10
        }
      ]
    },
    {
      "cell_type": "markdown",
      "source": [
        "### Run for first 100"
      ],
      "metadata": {
        "id": "woMR4WKry5Yj"
      }
    },
    {
      "cell_type": "code",
      "source": [
        "quotes100 = scrape_bs4(limit=100)\n",
        "save_csv(quotes100, \"quotes_100_bs4.csv\")\n",
        "print(\"First 100 quotes saved!\")\n",
        "len(quotes100)  # confirm count"
      ],
      "metadata": {
        "colab": {
          "base_uri": "https://localhost:8080/"
        },
        "id": "0Ou7FiyOy58-",
        "outputId": "43f018d0-8589-47b6-f965-89f0c841351e"
      },
      "execution_count": 9,
      "outputs": [
        {
          "output_type": "stream",
          "name": "stdout",
          "text": [
            "First 100 quotes saved!\n"
          ]
        },
        {
          "output_type": "execute_result",
          "data": {
            "text/plain": [
              "100"
            ]
          },
          "metadata": {},
          "execution_count": 9
        }
      ]
    },
    {
      "cell_type": "code",
      "source": [
        "quotes100"
      ],
      "metadata": {
        "colab": {
          "base_uri": "https://localhost:8080/"
        },
        "id": "uOLZtiMKy7K9",
        "outputId": "a1b63b61-758e-4e00-9e60-a58437a8fbc7"
      },
      "execution_count": 11,
      "outputs": [
        {
          "output_type": "execute_result",
          "data": {
            "text/plain": [
              "[Quote(text='The world as we have created it is a process of our thinking. It cannot be changed without changing our thinking.', author='Albert Einstein', tags=['change', 'deep-thoughts', 'thinking', 'world']),\n",
              " Quote(text='It is our choices, Harry, that show what we truly are, far more than our abilities.', author='J.K. Rowling', tags=['abilities', 'choices']),\n",
              " Quote(text='There are only two ways to live your life. One is as though nothing is a miracle. The other is as though everything is a miracle.', author='Albert Einstein', tags=['inspirational', 'life', 'live', 'miracle', 'miracles']),\n",
              " Quote(text='The person, be it gentleman or lady, who has not pleasure in a good novel, must be intolerably stupid.', author='Jane Austen', tags=['aliteracy', 'books', 'classic', 'humor']),\n",
              " Quote(text=\"Imperfection is beauty, madness is genius and it's better to be absolutely ridiculous than absolutely boring.\", author='Marilyn Monroe', tags=['be-yourself', 'inspirational']),\n",
              " Quote(text='Try not to become a man of success. Rather become a man of value.', author='Albert Einstein', tags=['adulthood', 'success', 'value']),\n",
              " Quote(text='It is better to be hated for what you are than to be loved for what you are not.', author='André Gide', tags=['life', 'love']),\n",
              " Quote(text=\"I have not failed. I've just found 10,000 ways that won't work.\", author='Thomas A. Edison', tags=['edison', 'failure', 'inspirational', 'paraphrased']),\n",
              " Quote(text=\"A woman is like a tea bag; you never know how strong it is until it's in hot water.\", author='Eleanor Roosevelt', tags=['misattributed-eleanor-roosevelt']),\n",
              " Quote(text='A day without sunshine is like, you know, night.', author='Steve Martin', tags=['humor', 'obvious', 'simile']),\n",
              " Quote(text=\"This life is what you make it. No matter what, you're going to mess up sometimes, it's a universal truth. But the good part is you get to decide how you're going to mess it up. Girls will be your friends - they'll act like it anyway. But just remember, some come, some go. The ones that stay with you through everything - they're your true best friends. Don't let go of them. Also remember, sisters make the best friends in the world. As for lovers, well, they'll come and go too. And baby, I hate to say it, most of them - actually pretty much all of them are going to break your heart, but you can't give up because if you give up, you'll never find your soulmate. You'll never find that half who makes you whole and that goes for everything. Just because you fail once, doesn't mean you're gonna fail at everything. Keep trying, hold on, and always, always, always believe in yourself, because if you don't, then who will, sweetie? So keep your head high, keep your chin up, and most importantly, keep smiling, because life's a beautiful thing and there's so much to smile about.\", author='Marilyn Monroe', tags=['friends', 'heartbreak', 'inspirational', 'life', 'love', 'sisters']),\n",
              " Quote(text='It takes a great deal of bravery to stand up to our enemies, but just as much to stand up to our friends.', author='J.K. Rowling', tags=['courage', 'friends']),\n",
              " Quote(text=\"If you can't explain it to a six year old, you don't understand it yourself.\", author='Albert Einstein', tags=['simplicity', 'understand']),\n",
              " Quote(text=\"You may not be her first, her last, or her only. She loved before she may love again. But if she loves you now, what else matters? She's not perfect—you aren't either, and the two of you may never be perfect together but if she can make you laugh, cause you to think twice, and admit to being human and making mistakes, hold onto her and give her the most you can. She may not be thinking about you every second of the day, but she will give you a part of her that she knows you can break—her heart. So don't hurt her, don't change her, don't analyze and don't expect more than she can give. Smile when she makes you happy, let her know when she makes you mad, and miss her when she's not there.\", author='Bob Marley', tags=['love']),\n",
              " Quote(text='I like nonsense, it wakes up the brain cells. Fantasy is a necessary ingredient in living.', author='Dr. Seuss', tags=['fantasy']),\n",
              " Quote(text='I may not have gone where I intended to go, but I think I have ended up where I needed to be.', author='Douglas Adams', tags=['life', 'navigation']),\n",
              " Quote(text=\"The opposite of love is not hate, it's indifference. The opposite of art is not ugliness, it's indifference. The opposite of faith is not heresy, it's indifference. And the opposite of life is not death, it's indifference.\", author='Elie Wiesel', tags=['activism', 'apathy', 'hate', 'indifference', 'inspirational', 'love', 'opposite', 'philosophy']),\n",
              " Quote(text='It is not a lack of love, but a lack of friendship that makes unhappy marriages.', author='Friedrich Nietzsche', tags=['friendship', 'lack-of-friendship', 'lack-of-love', 'love', 'marriage', 'unhappy-marriage']),\n",
              " Quote(text='Good friends, good books, and a sleepy conscience: this is the ideal life.', author='Mark Twain', tags=['books', 'contentment', 'friends', 'friendship', 'life']),\n",
              " Quote(text='Life is what happens to us while we are making other plans.', author='Allen Saunders', tags=['fate', 'life', 'misattributed-john-lennon', 'planning', 'plans']),\n",
              " Quote(text='I love you without knowing how, or when, or from where. I love you simply, without problems or pride: I love you in this way because I do not know any other way of loving but this, in which there is no I or you, so intimate that your hand upon my chest is my hand, so intimate that when I fall asleep your eyes close.', author='Pablo Neruda', tags=['love', 'poetry']),\n",
              " Quote(text='For every minute you are angry you lose sixty seconds of happiness.', author='Ralph Waldo Emerson', tags=['happiness']),\n",
              " Quote(text='If you judge people, you have no time to love them.', author='Mother Teresa', tags=['attributed-no-source']),\n",
              " Quote(text='Anyone who thinks sitting in church can make you a Christian must also think that sitting in a garage can make you a car.', author='Garrison Keillor', tags=['humor', 'religion']),\n",
              " Quote(text='Beauty is in the eye of the beholder and it may be necessary from time to time to give a stupid or misinformed beholder a black eye.', author='Jim Henson', tags=['humor']),\n",
              " Quote(text='Today you are You, that is truer than true. There is no one alive who is Youer than You.', author='Dr. Seuss', tags=['comedy', 'life', 'yourself']),\n",
              " Quote(text='If you want your children to be intelligent, read them fairy tales. If you want them to be more intelligent, read them more fairy tales.', author='Albert Einstein', tags=['children', 'fairy-tales']),\n",
              " Quote(text='It is impossible to live without failing at something, unless you live so cautiously that you might as well not have lived at all - in which case, you fail by default.', author='J.K. Rowling', tags=[]),\n",
              " Quote(text='Logic will get you from A to Z; imagination will get you everywhere.', author='Albert Einstein', tags=['imagination']),\n",
              " Quote(text='One good thing about music, when it hits you, you feel no pain.', author='Bob Marley', tags=['music']),\n",
              " Quote(text=\"The more that you read, the more things you will know. The more that you learn, the more places you'll go.\", author='Dr. Seuss', tags=['learning', 'reading', 'seuss']),\n",
              " Quote(text='Of course it is happening inside your head, Harry, but why on earth should that mean that it is not real?', author='J.K. Rowling', tags=['dumbledore']),\n",
              " Quote(text='The truth is, everyone is going to hurt you. You just got to find the ones worth suffering for.', author='Bob Marley', tags=['friendship']),\n",
              " Quote(text='Not all of us can do great things. But we can do small things with great love.', author='Mother Teresa', tags=['misattributed-to-mother-teresa', 'paraphrased']),\n",
              " Quote(text='To the well-organized mind, death is but the next great adventure.', author='J.K. Rowling', tags=['death', 'inspirational']),\n",
              " Quote(text=\"All you need is love. But a little chocolate now and then doesn't hurt.\", author='Charles M. Schulz', tags=['chocolate', 'food', 'humor']),\n",
              " Quote(text=\"We read to know we're not alone.\", author='William Nicholson', tags=['misattributed-to-c-s-lewis', 'reading']),\n",
              " Quote(text='Any fool can know. The point is to understand.', author='Albert Einstein', tags=['knowledge', 'learning', 'understanding', 'wisdom']),\n",
              " Quote(text='I have always imagined that Paradise will be a kind of library.', author='Jorge Luis Borges', tags=['books', 'library']),\n",
              " Quote(text='It is never too late to be what you might have been.', author='George Eliot', tags=['inspirational']),\n",
              " Quote(text='A reader lives a thousand lives before he dies, said Jojen. The man who never reads lives only one.', author='George R.R. Martin', tags=['read', 'readers', 'reading', 'reading-books']),\n",
              " Quote(text='You can never get a cup of tea large enough or a book long enough to suit me.', author='C.S. Lewis', tags=['books', 'inspirational', 'reading', 'tea']),\n",
              " Quote(text='You believe lies so you eventually learn to trust no one but yourself.', author='Marilyn Monroe', tags=[]),\n",
              " Quote(text='If you can make a woman laugh, you can make her do anything.', author='Marilyn Monroe', tags=['girls', 'love']),\n",
              " Quote(text='Life is like riding a bicycle. To keep your balance, you must keep moving.', author='Albert Einstein', tags=['life', 'simile']),\n",
              " Quote(text='The real lover is the man who can thrill you by kissing your forehead or smiling into your eyes or just staring into space.', author='Marilyn Monroe', tags=['love']),\n",
              " Quote(text=\"A wise girl kisses but doesn't love, listens but doesn't believe, and leaves before she is left.\", author='Marilyn Monroe', tags=['attributed-no-source']),\n",
              " Quote(text='Only in the darkness can you see the stars.', author='Martin Luther King Jr.', tags=['hope', 'inspirational']),\n",
              " Quote(text='It matters not what someone is born, but what they grow to be.', author='J.K. Rowling', tags=['dumbledore']),\n",
              " Quote(text='Love does not begin and end the way we seem to think it does. Love is a battle, love is a war; love is a growing up.', author='James Baldwin', tags=['love']),\n",
              " Quote(text='There is nothing I would not do for those who are really my friends. I have no notion of loving people by halves, it is not my nature.', author='Jane Austen', tags=['friendship', 'love']),\n",
              " Quote(text='Do one thing every day that scares you.', author='Eleanor Roosevelt', tags=['attributed', 'fear', 'inspiration']),\n",
              " Quote(text='I am good, but not an angel. I do sin, but I am not the devil. I am just a small girl in a big world trying to find someone to love.', author='Marilyn Monroe', tags=['attributed-no-source']),\n",
              " Quote(text='If I were not a physicist, I would probably be a musician. I often think in music. I live my daydreams in music. I see my life in terms of music.', author='Albert Einstein', tags=['music']),\n",
              " Quote(text='If you only read the books that everyone else is reading, you can only think what everyone else is thinking.', author='Haruki Murakami', tags=['books', 'thought']),\n",
              " Quote(text='The difference between genius and stupidity is: genius has its limits.', author='Alexandre Dumas fils', tags=['misattributed-to-einstein']),\n",
              " Quote(text=\"He's like a drug for you, Bella.\", author='Stephenie Meyer', tags=['drug', 'romance', 'simile']),\n",
              " Quote(text='There is no friend as loyal as a book.', author='Ernest Hemingway', tags=['books', 'friends', 'novelist-quotes']),\n",
              " Quote(text='When one door of happiness closes, another opens; but often we look so long at the closed door that we do not see the one which has been opened for us.', author='Helen Keller', tags=['inspirational']),\n",
              " Quote(text=\"Life isn't about finding yourself. Life is about creating yourself.\", author='George Bernard Shaw', tags=['inspirational', 'life', 'yourself']),\n",
              " Quote(text=\"That's the problem with drinking, I thought, as I poured myself a drink. If something bad happens you drink in an attempt to forget; if something good happens you drink in order to celebrate; and if nothing happens you drink to make something happen.\", author='Charles Bukowski', tags=['alcohol']),\n",
              " Quote(text='You don’t forget the face of the person who was your last hope.', author='Suzanne Collins', tags=['the-hunger-games']),\n",
              " Quote(text=\"Remember, we're madly in love, so it's all right to kiss me anytime you feel like it.\", author='Suzanne Collins', tags=['humor']),\n",
              " Quote(text='To love at all is to be vulnerable. Love anything and your heart will be wrung and possibly broken. If you want to make sure of keeping it intact you must give it to no one, not even an animal. Wrap it carefully round with hobbies and little luxuries; avoid all entanglements. Lock it up safe in the casket or coffin of your selfishness. But in that casket, safe, dark, motionless, airless, it will change. It will not be broken; it will become unbreakable, impenetrable, irredeemable. To love is to be vulnerable.', author='C.S. Lewis', tags=['love']),\n",
              " Quote(text='Not all those who wander are lost.', author='J.R.R. Tolkien', tags=['bilbo', 'journey', 'lost', 'quest', 'travel', 'wander']),\n",
              " Quote(text='Do not pity the dead, Harry. Pity the living, and, above all those who live without love.', author='J.K. Rowling', tags=['live-death-love']),\n",
              " Quote(text='There is nothing to writing. All you do is sit down at a typewriter and bleed.', author='Ernest Hemingway', tags=['good', 'writing']),\n",
              " Quote(text='Finish each day and be done with it. You have done what you could. Some blunders and absurdities no doubt crept in; forget them as soon as you can. Tomorrow is a new day. You shall begin it serenely and with too high a spirit to be encumbered with your old nonsense.', author='Ralph Waldo Emerson', tags=['life', 'regrets']),\n",
              " Quote(text='I have never let my schooling interfere with my education.', author='Mark Twain', tags=['education']),\n",
              " Quote(text=\"I have heard there are troubles of more than one kind. Some come from ahead and some come from behind. But I've bought a big bat. I'm all ready you see. Now my troubles are going to have troubles with me!\", author='Dr. Seuss', tags=['troubles']),\n",
              " Quote(text='If I had a flower for every time I thought of you...I could walk through my garden forever.', author='Alfred Tennyson', tags=['friendship', 'love']),\n",
              " Quote(text='Some people never go crazy. What truly horrible lives they must lead.', author='Charles Bukowski', tags=['humor']),\n",
              " Quote(text='The trouble with having an open mind, of course, is that people will insist on coming along and trying to put things in it.', author='Terry Pratchett', tags=['humor', 'open-mind', 'thinking']),\n",
              " Quote(text='Think left and think right and think low and think high. Oh, the thinks you can think up if only you try!', author='Dr. Seuss', tags=['humor', 'philosophy']),\n",
              " Quote(text=\"What really knocks me out is a book that, when you're all done reading it, you wish the author that wrote it was a terrific friend of yours and you could call him up on the phone whenever you felt like it. That doesn't happen much, though.\", author='J.D. Salinger', tags=['authors', 'books', 'literature', 'reading', 'writing']),\n",
              " Quote(text='The reason I talk to myself is because I’m the only one whose answers I accept.', author='George Carlin', tags=['humor', 'insanity', 'lies', 'lying', 'self-indulgence', 'truth']),\n",
              " Quote(text=\"You may say I'm a dreamer, but I'm not the only one. I hope someday you'll join us. And the world will live as one.\", author='John Lennon', tags=['beatles', 'connection', 'dreamers', 'dreaming', 'dreams', 'hope', 'inspirational', 'peace']),\n",
              " Quote(text='I am free of all prejudice. I hate everyone equally. ', author='W.C. Fields', tags=['humor', 'sinister']),\n",
              " Quote(text=\"The question isn't who is going to let me; it's who is going to stop me.\", author='Ayn Rand', tags=[]),\n",
              " Quote(text=\"′Classic′ - a book which people praise and don't read.\", author='Mark Twain', tags=['books', 'classic', 'reading']),\n",
              " Quote(text='Anyone who has never made a mistake has never tried anything new.', author='Albert Einstein', tags=['mistakes']),\n",
              " Quote(text=\"A lady's imagination is very rapid; it jumps from admiration to love, from love to matrimony in a moment.\", author='Jane Austen', tags=['humor', 'love', 'romantic', 'women']),\n",
              " Quote(text='Remember, if the time should come when you have to make a choice between what is right and what is easy, remember what happened to a boy who was good, and kind, and brave, because he strayed across the path of Lord Voldemort. Remember Cedric Diggory.', author='J.K. Rowling', tags=['integrity']),\n",
              " Quote(text='I declare after all there is no enjoyment like reading! How much sooner one tires of any thing than of a book! -- When I have a house of my own, I shall be miserable if I have not an excellent library.', author='Jane Austen', tags=['books', 'library', 'reading']),\n",
              " Quote(text='There are few people whom I really love, and still fewer of whom I think well. The more I see of the world, the more am I dissatisfied with it; and every day confirms my belief of the inconsistency of all human characters, and of the little dependence that can be placed on the appearance of merit or sense.', author='Jane Austen', tags=['elizabeth-bennet', 'jane-austen']),\n",
              " Quote(text='Some day you will be old enough to start reading fairy tales again.', author='C.S. Lewis', tags=['age', 'fairytales', 'growing-up']),\n",
              " Quote(text='We are not necessarily doubting that God will do the best for us; we are wondering how painful the best will turn out to be.', author='C.S. Lewis', tags=['god']),\n",
              " Quote(text='The fear of death follows from the fear of life. A man who lives fully is prepared to die at any time.', author='Mark Twain', tags=['death', 'life']),\n",
              " Quote(text='A lie can travel half way around the world while the truth is putting on its shoes.', author='Mark Twain', tags=['misattributed-mark-twain', 'truth']),\n",
              " Quote(text='I believe in Christianity as I believe that the sun has risen: not only because I see it, but because by it I see everything else.', author='C.S. Lewis', tags=['christianity', 'faith', 'religion', 'sun']),\n",
              " Quote(text='The truth.\" Dumbledore sighed. \"It is a beautiful and terrible thing, and should therefore be treated with great caution.', author='J.K. Rowling', tags=['truth']),\n",
              " Quote(text=\"I'm the one that's got to die when it's time for me to die, so let me live my life the way I want to.\", author='Jimi Hendrix', tags=['death', 'life']),\n",
              " Quote(text='To die will be an awfully big adventure.', author='J.M. Barrie', tags=['adventure', 'love']),\n",
              " Quote(text='It takes courage to grow up and become who you really are.', author='E.E. Cummings', tags=['courage']),\n",
              " Quote(text='But better to get hurt by the truth than comforted with a lie.', author='Khaled Hosseini', tags=['life']),\n",
              " Quote(text='You never really understand a person until you consider things from his point of view... Until you climb inside of his skin and walk around in it.', author='Harper Lee', tags=['better-life-empathy']),\n",
              " Quote(text='You have to write the book that wants to be written. And if the book will be too difficult for grown-ups, then you write it for children.', author=\"Madeleine L'Engle\", tags=['books', 'children', 'difficult', 'grown-ups', 'write', 'writers', 'writing']),\n",
              " Quote(text='Never tell the truth to people who are not worthy of it.', author='Mark Twain', tags=['truth']),\n",
              " Quote(text=\"A person's a person, no matter how small.\", author='Dr. Seuss', tags=['inspirational']),\n",
              " Quote(text='... a mind needs books as a sword needs a whetstone, if it is to keep its edge.', author='George R.R. Martin', tags=['books', 'mind'])]"
            ]
          },
          "metadata": {},
          "execution_count": 11
        }
      ]
    },
    {
      "cell_type": "markdown",
      "source": [
        "## Selenium (Headless Chrome)"
      ],
      "metadata": {
        "id": "kjk57MzHzoSH"
      }
    },
    {
      "cell_type": "markdown",
      "source": [
        "Selenium (Headless Chrome) = Automating Google Chrome in the background with Selenium, so you can scrape data without opening a visible browser window."
      ],
      "metadata": {
        "id": "ebw6s8TezuWo"
      }
    },
    {
      "cell_type": "markdown",
      "source": [
        "### Imports"
      ],
      "metadata": {
        "id": "0LJ6n1x1zwxF"
      }
    },
    {
      "cell_type": "markdown",
      "source": [
        "nstall Chromium + driver"
      ],
      "metadata": {
        "id": "qyOGFtPt2qn2"
      }
    },
    {
      "cell_type": "code",
      "source": [
        "!wget -q https://dl.google.com/linux/direct/google-chrome-stable_current_amd64.deb\n",
        "!apt-get update -y\n",
        "!apt-get install -y ./google-chrome-stable_current_amd64.deb\n"
      ],
      "metadata": {
        "colab": {
          "base_uri": "https://localhost:8080/"
        },
        "id": "eLzeK87g3BNo",
        "outputId": "7967de27-1a52-46d9-a81a-c6c2ca1b4c95"
      },
      "execution_count": 30,
      "outputs": [
        {
          "output_type": "stream",
          "name": "stdout",
          "text": [
            "\r0% [Working]\r            \rHit:1 https://cli.github.com/packages stable InRelease\n",
            "\r0% [Connecting to archive.ubuntu.com (185.125.190.81)] [Connecting to security.\r                                                                               \rHit:2 https://cloud.r-project.org/bin/linux/ubuntu jammy-cran40/ InRelease\n",
            "\r0% [Waiting for headers] [Waiting for headers] [Waiting for headers] [Waiting f\r                                                                               \rHit:3 https://developer.download.nvidia.com/compute/cuda/repos/ubuntu2204/x86_64  InRelease\n",
            "\r0% [Waiting for headers] [Waiting for headers] [Waiting for headers] [Connected\r0% [Waiting for headers] [Waiting for headers] [Waiting for headers] [Connected\r                                                                               \rHit:4 https://r2u.stat.illinois.edu/ubuntu jammy InRelease\n",
            "\r0% [Waiting for headers] [Waiting for headers] [Connected to ppa.launchpadconte\r                                                                               \rHit:5 http://archive.ubuntu.com/ubuntu jammy InRelease\n",
            "Hit:6 http://security.ubuntu.com/ubuntu jammy-security InRelease\n",
            "Hit:7 http://archive.ubuntu.com/ubuntu jammy-updates InRelease\n",
            "Hit:8 http://archive.ubuntu.com/ubuntu jammy-backports InRelease\n",
            "Hit:9 https://ppa.launchpadcontent.net/deadsnakes/ppa/ubuntu jammy InRelease\n",
            "Hit:10 https://ppa.launchpadcontent.net/graphics-drivers/ppa/ubuntu jammy InRelease\n",
            "Hit:11 https://ppa.launchpadcontent.net/ubuntugis/ppa/ubuntu jammy InRelease\n",
            "Reading package lists... Done\n",
            "W: Skipping acquire of configured file 'main/source/Sources' as repository 'https://r2u.stat.illinois.edu/ubuntu jammy InRelease' does not seem to provide it (sources.list entry misspelt?)\n",
            "Reading package lists... Done\n",
            "Building dependency tree... Done\n",
            "Reading state information... Done\n",
            "Note, selecting 'google-chrome-stable' instead of './google-chrome-stable_current_amd64.deb'\n",
            "The following additional packages will be installed:\n",
            "  libvulkan1 mesa-vulkan-drivers\n",
            "The following NEW packages will be installed:\n",
            "  google-chrome-stable libvulkan1 mesa-vulkan-drivers\n",
            "0 upgraded, 3 newly installed, 0 to remove and 42 not upgraded.\n",
            "Need to get 10.9 MB/132 MB of archives.\n",
            "After this operation, 447 MB of additional disk space will be used.\n",
            "Get:1 http://archive.ubuntu.com/ubuntu jammy/main amd64 libvulkan1 amd64 1.3.204.1-2 [128 kB]\n",
            "Get:2 http://archive.ubuntu.com/ubuntu jammy-updates/main amd64 mesa-vulkan-drivers amd64 23.2.1-1ubuntu3.1~22.04.3 [10.7 MB]\n",
            "Get:3 /content/google-chrome-stable_current_amd64.deb google-chrome-stable amd64 140.0.7339.185-1 [121 MB]\n",
            "Fetched 10.9 MB in 2s (7,187 kB/s)\n",
            "Selecting previously unselected package libvulkan1:amd64.\n",
            "(Reading database ... 126891 files and directories currently installed.)\n",
            "Preparing to unpack .../libvulkan1_1.3.204.1-2_amd64.deb ...\n",
            "Unpacking libvulkan1:amd64 (1.3.204.1-2) ...\n",
            "Selecting previously unselected package google-chrome-stable.\n",
            "Preparing to unpack .../google-chrome-stable_current_amd64.deb ...\n",
            "Unpacking google-chrome-stable (140.0.7339.185-1) ...\n",
            "Selecting previously unselected package mesa-vulkan-drivers:amd64.\n",
            "Preparing to unpack .../mesa-vulkan-drivers_23.2.1-1ubuntu3.1~22.04.3_amd64.deb ...\n",
            "Unpacking mesa-vulkan-drivers:amd64 (23.2.1-1ubuntu3.1~22.04.3) ...\n",
            "Setting up libvulkan1:amd64 (1.3.204.1-2) ...\n",
            "Setting up mesa-vulkan-drivers:amd64 (23.2.1-1ubuntu3.1~22.04.3) ...\n",
            "Setting up google-chrome-stable (140.0.7339.185-1) ...\n",
            "update-alternatives: using /usr/bin/google-chrome-stable to provide /usr/bin/x-www-browser (x-www-browser) in auto mode\n",
            "update-alternatives: using /usr/bin/google-chrome-stable to provide /usr/bin/gnome-www-browser (gnome-www-browser) in auto mode\n",
            "update-alternatives: using /usr/bin/google-chrome-stable to provide /usr/bin/google-chrome (google-chrome) in auto mode\n",
            "Processing triggers for man-db (2.10.2-1) ...\n",
            "Processing triggers for mailcap (3.70+nmu1ubuntu1) ...\n",
            "Processing triggers for libc-bin (2.35-0ubuntu3.8) ...\n",
            "/sbin/ldconfig.real: /usr/local/lib/libtcm_debug.so.1 is not a symbolic link\n",
            "\n",
            "/sbin/ldconfig.real: /usr/local/lib/libhwloc.so.15 is not a symbolic link\n",
            "\n",
            "/sbin/ldconfig.real: /usr/local/lib/libtbbmalloc.so.2 is not a symbolic link\n",
            "\n",
            "/sbin/ldconfig.real: /usr/local/lib/libumf.so.0 is not a symbolic link\n",
            "\n",
            "/sbin/ldconfig.real: /usr/local/lib/libtbbbind_2_0.so.3 is not a symbolic link\n",
            "\n",
            "/sbin/ldconfig.real: /usr/local/lib/libtbbbind.so.3 is not a symbolic link\n",
            "\n",
            "/sbin/ldconfig.real: /usr/local/lib/libur_adapter_level_zero.so.0 is not a symbolic link\n",
            "\n",
            "/sbin/ldconfig.real: /usr/local/lib/libtbb.so.12 is not a symbolic link\n",
            "\n",
            "/sbin/ldconfig.real: /usr/local/lib/libur_adapter_opencl.so.0 is not a symbolic link\n",
            "\n",
            "/sbin/ldconfig.real: /usr/local/lib/libtbbbind_2_5.so.3 is not a symbolic link\n",
            "\n",
            "/sbin/ldconfig.real: /usr/local/lib/libtcm.so.1 is not a symbolic link\n",
            "\n",
            "/sbin/ldconfig.real: /usr/local/lib/libtbbmalloc_proxy.so.2 is not a symbolic link\n",
            "\n",
            "/sbin/ldconfig.real: /usr/local/lib/libur_adapter_level_zero_v2.so.0 is not a symbolic link\n",
            "\n",
            "/sbin/ldconfig.real: /usr/local/lib/libur_loader.so.0 is not a symbolic link\n",
            "\n"
          ]
        }
      ]
    },
    {
      "cell_type": "code",
      "source": [
        "!apt-get update -y\n",
        "!apt-get install -y chromium-browser chromium-chromedriver\n"
      ],
      "metadata": {
        "colab": {
          "base_uri": "https://localhost:8080/"
        },
        "id": "yCXNYD3v2mTs",
        "outputId": "c9ff2cfd-cdbd-43cb-d325-e64bfdd91585"
      },
      "execution_count": 27,
      "outputs": [
        {
          "output_type": "stream",
          "name": "stdout",
          "text": [
            "\r0% [Working]\r            \rHit:1 https://cli.github.com/packages stable InRelease\n",
            "Hit:2 https://developer.download.nvidia.com/compute/cuda/repos/ubuntu2204/x86_64  InRelease\n",
            "Hit:3 https://cloud.r-project.org/bin/linux/ubuntu jammy-cran40/ InRelease\n",
            "Hit:4 https://r2u.stat.illinois.edu/ubuntu jammy InRelease\n",
            "Hit:5 http://security.ubuntu.com/ubuntu jammy-security InRelease\n",
            "Hit:6 http://archive.ubuntu.com/ubuntu jammy InRelease\n",
            "Hit:7 http://archive.ubuntu.com/ubuntu jammy-updates InRelease\n",
            "Hit:8 http://archive.ubuntu.com/ubuntu jammy-backports InRelease\n",
            "Hit:9 https://ppa.launchpadcontent.net/deadsnakes/ppa/ubuntu jammy InRelease\n",
            "Hit:10 https://ppa.launchpadcontent.net/graphics-drivers/ppa/ubuntu jammy InRelease\n",
            "Hit:11 https://ppa.launchpadcontent.net/ubuntugis/ppa/ubuntu jammy InRelease\n",
            "Reading package lists... Done\n",
            "W: Skipping acquire of configured file 'main/source/Sources' as repository 'https://r2u.stat.illinois.edu/ubuntu jammy InRelease' does not seem to provide it (sources.list entry misspelt?)\n",
            "Reading package lists... Done\n",
            "Building dependency tree... Done\n",
            "Reading state information... Done\n",
            "chromium-browser is already the newest version (1:85.0.4183.83-0ubuntu2.22.04.1).\n",
            "chromium-chromedriver is already the newest version (1:85.0.4183.83-0ubuntu2.22.04.1).\n",
            "0 upgraded, 0 newly installed, 0 to remove and 42 not upgraded.\n"
          ]
        }
      ]
    },
    {
      "cell_type": "code",
      "source": [
        "!pip install -q selenium webdriver-manager\n",
        "\n",
        "from selenium import webdriver\n",
        "from selenium.webdriver.chrome.options import Options\n",
        "from selenium.webdriver.chrome.service import Service\n",
        "from webdriver_manager.chrome import ChromeDriverManager\n",
        "\n",
        "opts = Options()\n",
        "opts.add_argument(\"--headless=new\")\n",
        "opts.add_argument(\"--no-sandbox\")\n",
        "opts.add_argument(\"--disable-dev-shm-usage\")\n",
        "opts.add_argument(\"--window-size=1280,800\")\n",
        "\n",
        "driver = webdriver.Chrome(service=Service(ChromeDriverManager().install()), options=opts)\n",
        "driver.get(\"https://quotes.toscrape.com/\")\n",
        "print(driver.title)   # should print: Quotes to Scrape\n",
        "driver.quit()\n"
      ],
      "metadata": {
        "colab": {
          "base_uri": "https://localhost:8080/"
        },
        "id": "6TcVVq553GHD",
        "outputId": "fb8466aa-55d1-4add-eeb5-7ff7b1d853f4"
      },
      "execution_count": 31,
      "outputs": [
        {
          "output_type": "stream",
          "name": "stdout",
          "text": [
            "Quotes to Scrape\n"
          ]
        }
      ]
    },
    {
      "cell_type": "markdown",
      "source": [
        "### Data model"
      ],
      "metadata": {
        "id": "gB5gJkrIz4Iw"
      }
    },
    {
      "cell_type": "code",
      "source": [
        "from dataclasses import dataclass\n",
        "from typing import List\n",
        "\n",
        "@dataclass\n",
        "class Quote:\n",
        "    text: str\n",
        "    author: str\n",
        "    tags: List[str]\n"
      ],
      "metadata": {
        "id": "uymg-pt_z45C"
      },
      "execution_count": 32,
      "outputs": []
    },
    {
      "cell_type": "markdown",
      "source": [
        "### Scraper function"
      ],
      "metadata": {
        "id": "kV7Wjl8I0Bpx"
      }
    },
    {
      "cell_type": "code",
      "source": [
        "from selenium.webdriver.common.by import By\n",
        "from selenium.webdriver.support.ui import WebDriverWait\n",
        "from selenium.webdriver.support import expected_conditions as EC\n",
        "import time\n",
        "\n",
        "BASE = \"https://quotes.toscrape.com\"\n",
        "\n",
        "def scrape_selenium(limit: int):\n",
        "    # re-use the same Options pattern you already used\n",
        "    from selenium import webdriver\n",
        "    from selenium.webdriver.chrome.options import Options\n",
        "    from selenium.webdriver.chrome.service import Service\n",
        "    from webdriver_manager.chrome import ChromeDriverManager\n",
        "\n",
        "    opts = Options()\n",
        "    opts.add_argument(\"--headless=new\")\n",
        "    opts.add_argument(\"--no-sandbox\")\n",
        "    opts.add_argument(\"--disable-dev-shm-usage\")\n",
        "    opts.add_argument(\"--window-size=1280,800\")\n",
        "\n",
        "    driver = webdriver.Chrome(service=Service(ChromeDriverManager().install()), options=opts)\n",
        "    wait = WebDriverWait(driver, 15)\n",
        "    out = []\n",
        "    try:\n",
        "        driver.get(f\"{BASE}/page/1/\")\n",
        "        while len(out) < limit:\n",
        "            wait.until(EC.presence_of_all_elements_located((By.CSS_SELECTOR, \".quote\")))\n",
        "            boxes = driver.find_elements(By.CSS_SELECTOR, \".quote\")\n",
        "            for box in boxes:\n",
        "                text   = box.find_element(By.CSS_SELECTOR, \"span.text\").text.strip(\"“”\\\"\")\n",
        "                author = box.find_element(By.CSS_SELECTOR, \"small.author\").text\n",
        "                tags   = [t.text for t in box.find_elements(By.CSS_SELECTOR, \".tags a.tag\")]\n",
        "                out.append(Quote(text, author, tags))\n",
        "                if len(out) >= limit:\n",
        "                    break\n",
        "            if len(out) >= limit:\n",
        "                break\n",
        "            nxt = driver.find_elements(By.CSS_SELECTOR, \"li.next > a\")\n",
        "            if not nxt:\n",
        "                break\n",
        "            nxt[0].click()\n",
        "            time.sleep(0.4)  # small transition pause\n",
        "    finally:\n",
        "        driver.quit()\n",
        "    return out\n"
      ],
      "metadata": {
        "id": "d7pSdiGR0CVu"
      },
      "execution_count": 33,
      "outputs": []
    },
    {
      "cell_type": "markdown",
      "source": [
        "### Save helpers (CSV / JSONL)"
      ],
      "metadata": {
        "id": "oEBqGcbn0Fgg"
      }
    },
    {
      "cell_type": "markdown",
      "source": [
        "CSV"
      ],
      "metadata": {
        "id": "FZm8eIDC0MDw"
      }
    },
    {
      "cell_type": "code",
      "source": [
        "def save_csv(quotes: List[Quote], path: str):\n",
        "    with open(path, \"w\", newline=\"\", encoding=\"utf-8\") as f:\n",
        "        w = csv.writer(f)\n",
        "        w.writerow([\"text\", \"author\", \"tags\"])\n",
        "        for q in quotes:\n",
        "            w.writerow([q.text, q.author, \", \".join(q.tags)])"
      ],
      "metadata": {
        "id": "RtHxhT3F0NqA"
      },
      "execution_count": 16,
      "outputs": []
    },
    {
      "cell_type": "markdown",
      "source": [
        "JSON"
      ],
      "metadata": {
        "id": "PGYjtkTT0PL3"
      }
    },
    {
      "cell_type": "code",
      "source": [
        "def save_jsonl(quotes: List[Quote], path: str):\n",
        "    with open(path, \"w\", encoding=\"utf-8\") as f:\n",
        "        for q in quotes:\n",
        "            f.write(json.dumps(q.__dict__, ensure_ascii=False) + \"\\n\")\n"
      ],
      "metadata": {
        "id": "UXwH7_S20HQY"
      },
      "execution_count": 17,
      "outputs": []
    },
    {
      "cell_type": "markdown",
      "source": [
        "### Run for first 10"
      ],
      "metadata": {
        "id": "htE71tB50QPF"
      }
    },
    {
      "cell_type": "code",
      "source": [
        "q10 = scrape_selenium(limit=10)\n",
        "save_csv(q10, \"quotes_10_selenium.csv\")\n",
        "len(q10), q10[:2]  # count + small preview\n"
      ],
      "metadata": {
        "colab": {
          "base_uri": "https://localhost:8080/"
        },
        "id": "IbOSDzBw0Sqy",
        "outputId": "1c359538-581c-40fc-86c8-a23b941425b2"
      },
      "execution_count": 34,
      "outputs": [
        {
          "output_type": "execute_result",
          "data": {
            "text/plain": [
              "(10,\n",
              " [Quote(text='The world as we have created it is a process of our thinking. It cannot be changed without changing our thinking.', author='Albert Einstein', tags=['change', 'deep-thoughts', 'thinking', 'world']),\n",
              "  Quote(text='It is our choices, Harry, that show what we truly are, far more than our abilities.', author='J.K. Rowling', tags=['abilities', 'choices'])])"
            ]
          },
          "metadata": {},
          "execution_count": 34
        }
      ]
    },
    {
      "cell_type": "code",
      "source": [
        "q10"
      ],
      "metadata": {
        "colab": {
          "base_uri": "https://localhost:8080/"
        },
        "id": "rArWV9ta3opo",
        "outputId": "0b958be3-a60a-4080-e3b3-d108ea3d5162"
      },
      "execution_count": 36,
      "outputs": [
        {
          "output_type": "execute_result",
          "data": {
            "text/plain": [
              "[Quote(text='The world as we have created it is a process of our thinking. It cannot be changed without changing our thinking.', author='Albert Einstein', tags=['change', 'deep-thoughts', 'thinking', 'world']),\n",
              " Quote(text='It is our choices, Harry, that show what we truly are, far more than our abilities.', author='J.K. Rowling', tags=['abilities', 'choices']),\n",
              " Quote(text='There are only two ways to live your life. One is as though nothing is a miracle. The other is as though everything is a miracle.', author='Albert Einstein', tags=['inspirational', 'life', 'live', 'miracle', 'miracles']),\n",
              " Quote(text='The person, be it gentleman or lady, who has not pleasure in a good novel, must be intolerably stupid.', author='Jane Austen', tags=['aliteracy', 'books', 'classic', 'humor']),\n",
              " Quote(text=\"Imperfection is beauty, madness is genius and it's better to be absolutely ridiculous than absolutely boring.\", author='Marilyn Monroe', tags=['be-yourself', 'inspirational']),\n",
              " Quote(text='Try not to become a man of success. Rather become a man of value.', author='Albert Einstein', tags=['adulthood', 'success', 'value']),\n",
              " Quote(text='It is better to be hated for what you are than to be loved for what you are not.', author='André Gide', tags=['life', 'love']),\n",
              " Quote(text=\"I have not failed. I've just found 10,000 ways that won't work.\", author='Thomas A. Edison', tags=['edison', 'failure', 'inspirational', 'paraphrased']),\n",
              " Quote(text=\"A woman is like a tea bag; you never know how strong it is until it's in hot water.\", author='Eleanor Roosevelt', tags=['misattributed-eleanor-roosevelt']),\n",
              " Quote(text='A day without sunshine is like, you know, night.', author='Steve Martin', tags=['humor', 'obvious', 'simile'])]"
            ]
          },
          "metadata": {},
          "execution_count": 36
        }
      ]
    },
    {
      "cell_type": "code",
      "source": [
        "q100 = scrape_selenium(limit=100)\n",
        "save_csv(q100, \"quotes_100_selenium.csv\")\n",
        "len(q100)\n"
      ],
      "metadata": {
        "colab": {
          "base_uri": "https://localhost:8080/"
        },
        "id": "pKuMaLTR0Ugs",
        "outputId": "317cdae1-033f-4f03-88f6-4b5a0a6d7279"
      },
      "execution_count": 35,
      "outputs": [
        {
          "output_type": "execute_result",
          "data": {
            "text/plain": [
              "100"
            ]
          },
          "metadata": {},
          "execution_count": 35
        }
      ]
    },
    {
      "cell_type": "code",
      "source": [
        "q100"
      ],
      "metadata": {
        "colab": {
          "base_uri": "https://localhost:8080/"
        },
        "id": "6nwtBWlT3qq4",
        "outputId": "9cbc824f-c6bc-462c-d77d-42cbc39d515c"
      },
      "execution_count": 37,
      "outputs": [
        {
          "output_type": "execute_result",
          "data": {
            "text/plain": [
              "[Quote(text='The world as we have created it is a process of our thinking. It cannot be changed without changing our thinking.', author='Albert Einstein', tags=['change', 'deep-thoughts', 'thinking', 'world']),\n",
              " Quote(text='It is our choices, Harry, that show what we truly are, far more than our abilities.', author='J.K. Rowling', tags=['abilities', 'choices']),\n",
              " Quote(text='There are only two ways to live your life. One is as though nothing is a miracle. The other is as though everything is a miracle.', author='Albert Einstein', tags=['inspirational', 'life', 'live', 'miracle', 'miracles']),\n",
              " Quote(text='The person, be it gentleman or lady, who has not pleasure in a good novel, must be intolerably stupid.', author='Jane Austen', tags=['aliteracy', 'books', 'classic', 'humor']),\n",
              " Quote(text=\"Imperfection is beauty, madness is genius and it's better to be absolutely ridiculous than absolutely boring.\", author='Marilyn Monroe', tags=['be-yourself', 'inspirational']),\n",
              " Quote(text='Try not to become a man of success. Rather become a man of value.', author='Albert Einstein', tags=['adulthood', 'success', 'value']),\n",
              " Quote(text='It is better to be hated for what you are than to be loved for what you are not.', author='André Gide', tags=['life', 'love']),\n",
              " Quote(text=\"I have not failed. I've just found 10,000 ways that won't work.\", author='Thomas A. Edison', tags=['edison', 'failure', 'inspirational', 'paraphrased']),\n",
              " Quote(text=\"A woman is like a tea bag; you never know how strong it is until it's in hot water.\", author='Eleanor Roosevelt', tags=['misattributed-eleanor-roosevelt']),\n",
              " Quote(text='A day without sunshine is like, you know, night.', author='Steve Martin', tags=['humor', 'obvious', 'simile']),\n",
              " Quote(text=\"This life is what you make it. No matter what, you're going to mess up sometimes, it's a universal truth. But the good part is you get to decide how you're going to mess it up. Girls will be your friends - they'll act like it anyway. But just remember, some come, some go. The ones that stay with you through everything - they're your true best friends. Don't let go of them. Also remember, sisters make the best friends in the world. As for lovers, well, they'll come and go too. And baby, I hate to say it, most of them - actually pretty much all of them are going to break your heart, but you can't give up because if you give up, you'll never find your soulmate. You'll never find that half who makes you whole and that goes for everything. Just because you fail once, doesn't mean you're gonna fail at everything. Keep trying, hold on, and always, always, always believe in yourself, because if you don't, then who will, sweetie? So keep your head high, keep your chin up, and most importantly, keep smiling, because life's a beautiful thing and there's so much to smile about.\", author='Marilyn Monroe', tags=['friends', 'heartbreak', 'inspirational', 'life', 'love', 'sisters']),\n",
              " Quote(text='It takes a great deal of bravery to stand up to our enemies, but just as much to stand up to our friends.', author='J.K. Rowling', tags=['courage', 'friends']),\n",
              " Quote(text=\"If you can't explain it to a six year old, you don't understand it yourself.\", author='Albert Einstein', tags=['simplicity', 'understand']),\n",
              " Quote(text=\"You may not be her first, her last, or her only. She loved before she may love again. But if she loves you now, what else matters? She's not perfect—you aren't either, and the two of you may never be perfect together but if she can make you laugh, cause you to think twice, and admit to being human and making mistakes, hold onto her and give her the most you can. She may not be thinking about you every second of the day, but she will give you a part of her that she knows you can break—her heart. So don't hurt her, don't change her, don't analyze and don't expect more than she can give. Smile when she makes you happy, let her know when she makes you mad, and miss her when she's not there.\", author='Bob Marley', tags=['love']),\n",
              " Quote(text='I like nonsense, it wakes up the brain cells. Fantasy is a necessary ingredient in living.', author='Dr. Seuss', tags=['fantasy']),\n",
              " Quote(text='I may not have gone where I intended to go, but I think I have ended up where I needed to be.', author='Douglas Adams', tags=['life', 'navigation']),\n",
              " Quote(text=\"The opposite of love is not hate, it's indifference. The opposite of art is not ugliness, it's indifference. The opposite of faith is not heresy, it's indifference. And the opposite of life is not death, it's indifference.\", author='Elie Wiesel', tags=['activism', 'apathy', 'hate', 'indifference', 'inspirational', 'love', 'opposite', 'philosophy']),\n",
              " Quote(text='It is not a lack of love, but a lack of friendship that makes unhappy marriages.', author='Friedrich Nietzsche', tags=['friendship', 'lack-of-friendship', 'lack-of-love', 'love', 'marriage', 'unhappy-marriage']),\n",
              " Quote(text='Good friends, good books, and a sleepy conscience: this is the ideal life.', author='Mark Twain', tags=['books', 'contentment', 'friends', 'friendship', 'life']),\n",
              " Quote(text='Life is what happens to us while we are making other plans.', author='Allen Saunders', tags=['fate', 'life', 'misattributed-john-lennon', 'planning', 'plans']),\n",
              " Quote(text='I love you without knowing how, or when, or from where. I love you simply, without problems or pride: I love you in this way because I do not know any other way of loving but this, in which there is no I or you, so intimate that your hand upon my chest is my hand, so intimate that when I fall asleep your eyes close.', author='Pablo Neruda', tags=['love', 'poetry']),\n",
              " Quote(text='For every minute you are angry you lose sixty seconds of happiness.', author='Ralph Waldo Emerson', tags=['happiness']),\n",
              " Quote(text='If you judge people, you have no time to love them.', author='Mother Teresa', tags=['attributed-no-source']),\n",
              " Quote(text='Anyone who thinks sitting in church can make you a Christian must also think that sitting in a garage can make you a car.', author='Garrison Keillor', tags=['humor', 'religion']),\n",
              " Quote(text='Beauty is in the eye of the beholder and it may be necessary from time to time to give a stupid or misinformed beholder a black eye.', author='Jim Henson', tags=['humor']),\n",
              " Quote(text='Today you are You, that is truer than true. There is no one alive who is Youer than You.', author='Dr. Seuss', tags=['comedy', 'life', 'yourself']),\n",
              " Quote(text='If you want your children to be intelligent, read them fairy tales. If you want them to be more intelligent, read them more fairy tales.', author='Albert Einstein', tags=['children', 'fairy-tales']),\n",
              " Quote(text='It is impossible to live without failing at something, unless you live so cautiously that you might as well not have lived at all - in which case, you fail by default.', author='J.K. Rowling', tags=[]),\n",
              " Quote(text='Logic will get you from A to Z; imagination will get you everywhere.', author='Albert Einstein', tags=['imagination']),\n",
              " Quote(text='One good thing about music, when it hits you, you feel no pain.', author='Bob Marley', tags=['music']),\n",
              " Quote(text=\"The more that you read, the more things you will know. The more that you learn, the more places you'll go.\", author='Dr. Seuss', tags=['learning', 'reading', 'seuss']),\n",
              " Quote(text='Of course it is happening inside your head, Harry, but why on earth should that mean that it is not real?', author='J.K. Rowling', tags=['dumbledore']),\n",
              " Quote(text='The truth is, everyone is going to hurt you. You just got to find the ones worth suffering for.', author='Bob Marley', tags=['friendship']),\n",
              " Quote(text='Not all of us can do great things. But we can do small things with great love.', author='Mother Teresa', tags=['misattributed-to-mother-teresa', 'paraphrased']),\n",
              " Quote(text='To the well-organized mind, death is but the next great adventure.', author='J.K. Rowling', tags=['death', 'inspirational']),\n",
              " Quote(text=\"All you need is love. But a little chocolate now and then doesn't hurt.\", author='Charles M. Schulz', tags=['chocolate', 'food', 'humor']),\n",
              " Quote(text=\"We read to know we're not alone.\", author='William Nicholson', tags=['misattributed-to-c-s-lewis', 'reading']),\n",
              " Quote(text='Any fool can know. The point is to understand.', author='Albert Einstein', tags=['knowledge', 'learning', 'understanding', 'wisdom']),\n",
              " Quote(text='I have always imagined that Paradise will be a kind of library.', author='Jorge Luis Borges', tags=['books', 'library']),\n",
              " Quote(text='It is never too late to be what you might have been.', author='George Eliot', tags=['inspirational']),\n",
              " Quote(text='A reader lives a thousand lives before he dies, said Jojen. The man who never reads lives only one.', author='George R.R. Martin', tags=['read', 'readers', 'reading', 'reading-books']),\n",
              " Quote(text='You can never get a cup of tea large enough or a book long enough to suit me.', author='C.S. Lewis', tags=['books', 'inspirational', 'reading', 'tea']),\n",
              " Quote(text='You believe lies so you eventually learn to trust no one but yourself.', author='Marilyn Monroe', tags=[]),\n",
              " Quote(text='If you can make a woman laugh, you can make her do anything.', author='Marilyn Monroe', tags=['girls', 'love']),\n",
              " Quote(text='Life is like riding a bicycle. To keep your balance, you must keep moving.', author='Albert Einstein', tags=['life', 'simile']),\n",
              " Quote(text='The real lover is the man who can thrill you by kissing your forehead or smiling into your eyes or just staring into space.', author='Marilyn Monroe', tags=['love']),\n",
              " Quote(text=\"A wise girl kisses but doesn't love, listens but doesn't believe, and leaves before she is left.\", author='Marilyn Monroe', tags=['attributed-no-source']),\n",
              " Quote(text='Only in the darkness can you see the stars.', author='Martin Luther King Jr.', tags=['hope', 'inspirational']),\n",
              " Quote(text='It matters not what someone is born, but what they grow to be.', author='J.K. Rowling', tags=['dumbledore']),\n",
              " Quote(text='Love does not begin and end the way we seem to think it does. Love is a battle, love is a war; love is a growing up.', author='James Baldwin', tags=['love']),\n",
              " Quote(text='There is nothing I would not do for those who are really my friends. I have no notion of loving people by halves, it is not my nature.', author='Jane Austen', tags=['friendship', 'love']),\n",
              " Quote(text='Do one thing every day that scares you.', author='Eleanor Roosevelt', tags=['attributed', 'fear', 'inspiration']),\n",
              " Quote(text='I am good, but not an angel. I do sin, but I am not the devil. I am just a small girl in a big world trying to find someone to love.', author='Marilyn Monroe', tags=['attributed-no-source']),\n",
              " Quote(text='If I were not a physicist, I would probably be a musician. I often think in music. I live my daydreams in music. I see my life in terms of music.', author='Albert Einstein', tags=['music']),\n",
              " Quote(text='If you only read the books that everyone else is reading, you can only think what everyone else is thinking.', author='Haruki Murakami', tags=['books', 'thought']),\n",
              " Quote(text='The difference between genius and stupidity is: genius has its limits.', author='Alexandre Dumas fils', tags=['misattributed-to-einstein']),\n",
              " Quote(text=\"He's like a drug for you, Bella.\", author='Stephenie Meyer', tags=['drug', 'romance', 'simile']),\n",
              " Quote(text='There is no friend as loyal as a book.', author='Ernest Hemingway', tags=['books', 'friends', 'novelist-quotes']),\n",
              " Quote(text='When one door of happiness closes, another opens; but often we look so long at the closed door that we do not see the one which has been opened for us.', author='Helen Keller', tags=['inspirational']),\n",
              " Quote(text=\"Life isn't about finding yourself. Life is about creating yourself.\", author='George Bernard Shaw', tags=['inspirational', 'life', 'yourself']),\n",
              " Quote(text=\"That's the problem with drinking, I thought, as I poured myself a drink. If something bad happens you drink in an attempt to forget; if something good happens you drink in order to celebrate; and if nothing happens you drink to make something happen.\", author='Charles Bukowski', tags=['alcohol']),\n",
              " Quote(text='You don’t forget the face of the person who was your last hope.', author='Suzanne Collins', tags=['the-hunger-games']),\n",
              " Quote(text=\"Remember, we're madly in love, so it's all right to kiss me anytime you feel like it.\", author='Suzanne Collins', tags=['humor']),\n",
              " Quote(text='To love at all is to be vulnerable. Love anything and your heart will be wrung and possibly broken. If you want to make sure of keeping it intact you must give it to no one, not even an animal. Wrap it carefully round with hobbies and little luxuries; avoid all entanglements. Lock it up safe in the casket or coffin of your selfishness. But in that casket, safe, dark, motionless, airless, it will change. It will not be broken; it will become unbreakable, impenetrable, irredeemable. To love is to be vulnerable.', author='C.S. Lewis', tags=['love']),\n",
              " Quote(text='Not all those who wander are lost.', author='J.R.R. Tolkien', tags=['bilbo', 'journey', 'lost', 'quest', 'travel', 'wander']),\n",
              " Quote(text='Do not pity the dead, Harry. Pity the living, and, above all those who live without love.', author='J.K. Rowling', tags=['live-death-love']),\n",
              " Quote(text='There is nothing to writing. All you do is sit down at a typewriter and bleed.', author='Ernest Hemingway', tags=['good', 'writing']),\n",
              " Quote(text='Finish each day and be done with it. You have done what you could. Some blunders and absurdities no doubt crept in; forget them as soon as you can. Tomorrow is a new day. You shall begin it serenely and with too high a spirit to be encumbered with your old nonsense.', author='Ralph Waldo Emerson', tags=['life', 'regrets']),\n",
              " Quote(text='I have never let my schooling interfere with my education.', author='Mark Twain', tags=['education']),\n",
              " Quote(text=\"I have heard there are troubles of more than one kind. Some come from ahead and some come from behind. But I've bought a big bat. I'm all ready you see. Now my troubles are going to have troubles with me!\", author='Dr. Seuss', tags=['troubles']),\n",
              " Quote(text='If I had a flower for every time I thought of you...I could walk through my garden forever.', author='Alfred Tennyson', tags=['friendship', 'love']),\n",
              " Quote(text='Some people never go crazy. What truly horrible lives they must lead.', author='Charles Bukowski', tags=['humor']),\n",
              " Quote(text='The trouble with having an open mind, of course, is that people will insist on coming along and trying to put things in it.', author='Terry Pratchett', tags=['humor', 'open-mind', 'thinking']),\n",
              " Quote(text='Think left and think right and think low and think high. Oh, the thinks you can think up if only you try!', author='Dr. Seuss', tags=['humor', 'philosophy']),\n",
              " Quote(text=\"What really knocks me out is a book that, when you're all done reading it, you wish the author that wrote it was a terrific friend of yours and you could call him up on the phone whenever you felt like it. That doesn't happen much, though.\", author='J.D. Salinger', tags=['authors', 'books', 'literature', 'reading', 'writing']),\n",
              " Quote(text='The reason I talk to myself is because I’m the only one whose answers I accept.', author='George Carlin', tags=['humor', 'insanity', 'lies', 'lying', 'self-indulgence', 'truth']),\n",
              " Quote(text=\"You may say I'm a dreamer, but I'm not the only one. I hope someday you'll join us. And the world will live as one.\", author='John Lennon', tags=['beatles', 'connection', 'dreamers', 'dreaming', 'dreams', 'hope', 'inspirational', 'peace']),\n",
              " Quote(text='I am free of all prejudice. I hate everyone equally. ', author='W.C. Fields', tags=['humor', 'sinister']),\n",
              " Quote(text=\"The question isn't who is going to let me; it's who is going to stop me.\", author='Ayn Rand', tags=[]),\n",
              " Quote(text=\"′Classic′ - a book which people praise and don't read.\", author='Mark Twain', tags=['books', 'classic', 'reading']),\n",
              " Quote(text='Anyone who has never made a mistake has never tried anything new.', author='Albert Einstein', tags=['mistakes']),\n",
              " Quote(text=\"A lady's imagination is very rapid; it jumps from admiration to love, from love to matrimony in a moment.\", author='Jane Austen', tags=['humor', 'love', 'romantic', 'women']),\n",
              " Quote(text='Remember, if the time should come when you have to make a choice between what is right and what is easy, remember what happened to a boy who was good, and kind, and brave, because he strayed across the path of Lord Voldemort. Remember Cedric Diggory.', author='J.K. Rowling', tags=['integrity']),\n",
              " Quote(text='I declare after all there is no enjoyment like reading! How much sooner one tires of any thing than of a book! -- When I have a house of my own, I shall be miserable if I have not an excellent library.', author='Jane Austen', tags=['books', 'library', 'reading']),\n",
              " Quote(text='There are few people whom I really love, and still fewer of whom I think well. The more I see of the world, the more am I dissatisfied with it; and every day confirms my belief of the inconsistency of all human characters, and of the little dependence that can be placed on the appearance of merit or sense.', author='Jane Austen', tags=['elizabeth-bennet', 'jane-austen']),\n",
              " Quote(text='Some day you will be old enough to start reading fairy tales again.', author='C.S. Lewis', tags=['age', 'fairytales', 'growing-up']),\n",
              " Quote(text='We are not necessarily doubting that God will do the best for us; we are wondering how painful the best will turn out to be.', author='C.S. Lewis', tags=['god']),\n",
              " Quote(text='The fear of death follows from the fear of life. A man who lives fully is prepared to die at any time.', author='Mark Twain', tags=['death', 'life']),\n",
              " Quote(text='A lie can travel half way around the world while the truth is putting on its shoes.', author='Mark Twain', tags=['misattributed-mark-twain', 'truth']),\n",
              " Quote(text='I believe in Christianity as I believe that the sun has risen: not only because I see it, but because by it I see everything else.', author='C.S. Lewis', tags=['christianity', 'faith', 'religion', 'sun']),\n",
              " Quote(text='The truth.\" Dumbledore sighed. \"It is a beautiful and terrible thing, and should therefore be treated with great caution.', author='J.K. Rowling', tags=['truth']),\n",
              " Quote(text=\"I'm the one that's got to die when it's time for me to die, so let me live my life the way I want to.\", author='Jimi Hendrix', tags=['death', 'life']),\n",
              " Quote(text='To die will be an awfully big adventure.', author='J.M. Barrie', tags=['adventure', 'love']),\n",
              " Quote(text='It takes courage to grow up and become who you really are.', author='E.E. Cummings', tags=['courage']),\n",
              " Quote(text='But better to get hurt by the truth than comforted with a lie.', author='Khaled Hosseini', tags=['life']),\n",
              " Quote(text='You never really understand a person until you consider things from his point of view... Until you climb inside of his skin and walk around in it.', author='Harper Lee', tags=['better-life-empathy']),\n",
              " Quote(text='You have to write the book that wants to be written. And if the book will be too difficult for grown-ups, then you write it for children.', author=\"Madeleine L'Engle\", tags=['books', 'children', 'difficult', 'grown-ups', 'write', 'writers', 'writing']),\n",
              " Quote(text='Never tell the truth to people who are not worthy of it.', author='Mark Twain', tags=['truth']),\n",
              " Quote(text=\"A person's a person, no matter how small.\", author='Dr. Seuss', tags=['inspirational']),\n",
              " Quote(text='... a mind needs books as a sword needs a whetstone, if it is to keep its edge.', author='George R.R. Martin', tags=['books', 'mind'])]"
            ]
          },
          "metadata": {},
          "execution_count": 37
        }
      ]
    },
    {
      "cell_type": "markdown",
      "source": [
        "### The Approach"
      ],
      "metadata": {
        "id": "z5WvK7Y24Aom"
      }
    },
    {
      "cell_type": "markdown",
      "source": [
        "1. Launch a Browser (Headless)\n",
        "\n",
        "Selenium starts a Chrome browser in the background (headless = no visible window).\n",
        "\n",
        "This makes the scraper act like a real person opening pages, clicking, and reading content.\n",
        "\n",
        "2. Go to the Website\n",
        "\n",
        "The browser is told to open https://quotes.toscrape.com/.\n",
        "\n",
        "3. Find the Quotes on the Page\n",
        "\n",
        "Selenium looks for all elements with the CSS class .quote.\n",
        "\n",
        "Inside each quote box, it extracts:\n",
        "\n",
        "The text of the quote (span.text)\n",
        "\n",
        "The author (small.author)\n",
        "\n",
        "The tags (all a elements inside .tags)\n",
        "\n",
        "4. Save the Data\n",
        "\n",
        "Each quote is stored in a Python object (with text, author, tags).\n",
        "\n",
        "At the end, all quotes are written to a file (CSV or JSON) so you can use them later.\n",
        "\n",
        "5. Handle Multiple Pages\n",
        "\n",
        "After finishing the first page, the scraper checks if there’s a Next button.\n",
        "\n",
        "If yes, Selenium clicks it, loads the new page, and repeats the same steps until it reaches the required number of quotes (10 or 100)."
      ],
      "metadata": {
        "id": "GNNeFOXQ3-Ul"
      }
    }
  ]
}